{
 "cells": [
  {
   "cell_type": "code",
   "execution_count": 7,
   "metadata": {},
   "outputs": [],
   "source": [
    "# An ordered dictionary implemented as binary search trees \n",
    "# (keeps keys in order) \n",
    "# as implemented in the Princeton book\n",
    "class ordered_dict:\n",
    "\n",
    "    #-------------------------------------------------------------------\n",
    "    # Construct a new empty ordered dictionary object\n",
    "    def __init__(self):\n",
    "        self._root = None  # Reference to root _Node object\n",
    "        \n",
    "    ### Exercise 1\n",
    "    # Construct a new ordered dictionary object reading from a file\n",
    "    # In the file the lines are: key delimiter value. For example k/v.\n",
    "    # NOTICE:\n",
    "    #    Once you define this constructor it overwrites the old one.\n",
    "    def __init__(self, filename, delimiter):\n",
    "        self._root = None\n",
    "        ### your code here\n",
    "        f= open(filename,\"r\")\n",
    "        for l in f.readlines():\n",
    "            splitted=l.split(delimiter)\n",
    "            if(len(splitted)==2):\n",
    "                self.__setitem__( splitted[0], splitted[1])\n",
    "            else:\n",
    "                f.close()\n",
    "                return\n",
    "        f.close()\n",
    "\n",
    "     \n",
    "    \n",
    "    \n",
    "    #-------------------------------------------------------------------\n",
    "\n",
    "    # Search the subtree of self whose root is x for a _Node object\n",
    "    # with the given key.  If found, return that _Node object's value;\n",
    "    # otherwise raise a KeyError.\n",
    "\n",
    "    def _get(self, x, key):\n",
    "        if x is None:\n",
    "            raise KeyError\n",
    "        if key < x.key:\n",
    "            return self._get(x.left, key)\n",
    "        elif x.key < key:\n",
    "            return self._get(x.right, key)\n",
    "        else:\n",
    "            return x.val\n",
    "\n",
    "   # Return the value associated with key in self.\n",
    "\n",
    "    def __getitem__(self, key):\n",
    "        return self._get(self._root, key)\n",
    "\n",
    "    #-------------------------------------------------------------------\n",
    "\n",
    "    # x is the root of a subtree self.  If a _Node object with\n",
    "    # the given key exists in that subtree, then set its\n",
    "    # value to val.  Otherwise insert a new _Node object consisting\n",
    "    # of the given key and val into the subtree.  Return the root of\n",
    "    # the resulting subtree.\n",
    "\n",
    "    def _set(self, x, key, val):\n",
    "        if x is None:\n",
    "            return _Node(key, val)\n",
    "        if key < x.key:\n",
    "            x.left = self._set(x.left, key, val)\n",
    "        elif x.key < key:\n",
    "            x.right = self._set(x.right, key, val)\n",
    "        else:\n",
    "            x.val = val\n",
    "        return x\n",
    "\n",
    "    # Associate key with val in self.\n",
    "\n",
    "    def __setitem__(self, key, val):\n",
    "        self._root = self._set(self._root, key, val)\n",
    "\n",
    "    #-------------------------------------------------------------------\n",
    "\n",
    "    # Search the subtree of self whose root is x for a _Node object\n",
    "    # with the given key.  If found, return True; otherwise return\n",
    "    # False.\n",
    "\n",
    "    def _contains(self, x, key):\n",
    "        if x is None:\n",
    "            return False\n",
    "        if key < x.key:\n",
    "            return self._contains(x.left, key)\n",
    "        if x.key < key:\n",
    "            return self._contains(x.right, key)\n",
    "        return True\n",
    "\n",
    "    # Return True if key is in self, and False otherwise.\n",
    "\n",
    "    def __contains__(self, key):\n",
    "        return self._contains(self._root, key)\n",
    "\n",
    "    #-------------------------------------------------------------------\n",
    "\n",
    "    # Populate list a with all keys in the subtree of self whose\n",
    "    # root is x.\n",
    "\n",
    "    def _inorder(self, x, a):\n",
    "        if x is None:\n",
    "            return\n",
    "        self._inorder(x.left, a)\n",
    "        a += [x.key]\n",
    "        self._inorder(x.right, a)\n",
    "\n",
    "    # Return an iterator for SymTable object self.\n",
    "\n",
    "    def __iter__(self):\n",
    "        a = []\n",
    "        self._inorder(self._root, a)\n",
    "        return iter(a)\n",
    "\n",
    "    def _min(self, x):\n",
    "        if x == None : raise KeyError\n",
    "        if x.left == None: return (x.key, x.val)\n",
    "        return self._min(x.left)\n",
    "    \n",
    "    def min(self):\n",
    "        return self._min(self._root)\n",
    "    \n",
    "    def _max(self, x):\n",
    "        if x == None : raise KeyError\n",
    "        if x.right == None: return (x.key, x.val)\n",
    "        return self._max(x.right)\n",
    "    \n",
    "    def max(self):\n",
    "        return self._max(self._root)\n",
    "    \n",
    "    def _height(self, x):\n",
    "            if x == None : return 0\n",
    "            if x.left == None and x.right == None : return 0\n",
    "            return 1 + max(self._height(x.left), self._height(x.right))\n",
    "            \n",
    "        \n",
    "    def height(self):\n",
    "        return self._height(self._root)\n",
    "    \n",
    "# Bonus: \n",
    "# __str__ can be used for overloading Python's function str \n",
    "# that converts values of different types to strings\n",
    "# we define it for ordered_dict using the auxiliary function\n",
    "# _pretty (obs only the keys!)\n",
    "\n",
    "    def _pretty(self, x, indent):\n",
    "        if x == None: return ''\n",
    "        return (\n",
    "            indent + str(x.key) + '\\n' \n",
    "            + self._pretty(x.left, '   ' + indent)\n",
    "            + self._pretty(x.right, '   ' + indent)\n",
    "        )\n",
    "    \n",
    "    def __str__(self):\n",
    "        return self._pretty(self._root,'')\n",
    "    \n",
    "    def __len__(self):\n",
    "        a = []\n",
    "        self._inorder(self._root,a)\n",
    "        return len(a)\n",
    "    \n",
    "    \n",
    "    ### Exercise 4             \n",
    "    def _preorder(self,x, f,delimiter):\n",
    "        if x is None:\n",
    "            return\n",
    "        f.write(x.key + delimiter + x.val )\n",
    "        self._preorder(x.left,f,delimiter)\n",
    "        self._preorder(x.right,f,delimiter)\n",
    "       \n",
    "    def save(self, filename, delimiter):\n",
    "        ### Your code here\n",
    "        f = open(filename,'w')\n",
    "        self._preorder(self._root,f,delimiter)\n",
    "        f.close()  \n",
    "        return\n",
    "#-----------------------------------------------------------------------\n",
    "\n",
    "# A _Node object references a key, a value, and left and right\n",
    "# children _Node objects.  An OrderedSymTable object is composed of\n",
    "# _Node objects.\n",
    "\n",
    "class _Node:\n",
    "    def __init__(self, key, val):\n",
    "        self.key = key    # Reference to key\n",
    "        self.val = val    # Reference to value\n",
    "        self.left = None  # Reference to left child _Node object\n",
    "        self.right = None # Reference to right child _Node object\n"
   ]
  },
  {
   "cell_type": "code",
   "execution_count": 11,
   "metadata": {},
   "outputs": [],
   "source": [
    "# generate names and numbers for a file that they can use \n",
    "# as input to their service\n",
    "import random\n",
    "def randomString(L, alpha):\n",
    "    # generates a random string of length L \n",
    "    # and letters among those of alpha\n",
    "    a = ''\n",
    "    for i in range(L):\n",
    "        a += random.choice(alpha)\n",
    "    return a\n",
    "\n",
    "def random_phone_numbers(size):\n",
    "    telephones = [\n",
    "        (randomString(5,'abcdefghijklmnopqrstuvwxyz') \n",
    "         + ' ' \n",
    "         + randomString(6,'abcdefghijklmnopqrstuvwxyz'), \n",
    "         str(random.randrange(100000, 1000000)))\n",
    "        for x in range(size) ]\n",
    "\n",
    "    f = open('telephone_register','w')\n",
    "    for name, number in telephones:\n",
    "        f.write(name +'/' + number + '\\n')\n",
    "        # print(name, number)\n",
    "    f.close()"
   ]
  },
  {
   "cell_type": "code",
   "execution_count": 12,
   "metadata": {},
   "outputs": [],
   "source": [
    "def small_test():\n",
    "    tels = ordered_dict('telephone_register', '/')\n",
    "    for k in tels:\n",
    "        print(k, tels[k])"
   ]
  },
  {
   "cell_type": "code",
   "execution_count": 13,
   "metadata": {},
   "outputs": [
    {
     "name": "stdout",
     "output_type": "stream",
     "text": [
      "dfuya rmvmsf 298608\n",
      "\n",
      "etvyz hmtjtv 477071\n",
      "\n",
      "ioulf tkwaiu 568396\n",
      "\n",
      "pzmod wpkdpm 527601\n",
      "\n",
      "swasb pvdfsl 424579\n",
      "\n",
      "taokx ytgsyq 713798\n",
      "\n",
      "tbjgt nlxweb 297163\n",
      "\n",
      "tcfrj ecwjme 221267\n",
      "\n",
      "ubgky yippks 318978\n",
      "\n",
      "xenhd hpmwxa 490732\n",
      "\n"
     ]
    }
   ],
   "source": [
    "# Test for exercise 1:\n",
    "random_phone_numbers(10)\n",
    "small_test()"
   ]
  },
  {
   "cell_type": "code",
   "execution_count": 40,
   "metadata": {},
   "outputs": [],
   "source": [
    "### Exercise 2\n",
    "def save_ordered_dict(d, filename, delimiter):\n",
    "    ### Your code here\n",
    "    f = open(filename,'w')\n",
    "    for k in d:\n",
    "        f.write(k+ delimiter+d[k])\n",
    "    f.close()\n",
    "    return\n",
    "   "
   ]
  },
  {
   "cell_type": "code",
   "execution_count": 41,
   "metadata": {},
   "outputs": [],
   "source": [
    "def read_save_read():\n",
    "    tels = ordered_dict('telephone_register', '/')\n",
    "    print('the dictionary has height ' + str(tels.height()))\n",
    "    save_ordered_dict(tels, 'tr', '/')\n",
    "    tels = ordered_dict('tr', '/')\n",
    "    print('the dictionary has height ' + str(tels.height()))"
   ]
  },
  {
   "cell_type": "code",
   "execution_count": 42,
   "metadata": {
    "scrolled": true
   },
   "outputs": [
    {
     "name": "stdout",
     "output_type": "stream",
     "text": [
      "the dictionary has height 4\n",
      "the dictionary has height 9\n"
     ]
    }
   ],
   "source": [
    "# Test for exercise 2\n",
    "random_phone_numbers(10)\n",
    "read_save_read()"
   ]
  },
  {
   "cell_type": "code",
   "execution_count": 43,
   "metadata": {},
   "outputs": [],
   "source": [
    "import time \n",
    "def manySearches(iters, f):\n",
    "    random_phone_numbers(2000)\n",
    "    f()\n",
    "    \n",
    "    tels = ordered_dict('telephone_register', '/')\n",
    "    print('the dictionary has ' + str(len(tels)) + ' items')\n",
    "    start = time.time()\n",
    "    for i in range(iters):\n",
    "        if 'zzzzz zzzzzz' in tels: print('found!')\n",
    "    print(time.time()-start)\n",
    "    \n",
    "    tels = ordered_dict('tr', '/')\n",
    "    print('the dictionary has ' + str(len(tels)) + ' items')\n",
    "    start = time.time()\n",
    "    for i in range(iters):\n",
    "        if 'zzzzz zzzzzz' in tels: print('found!')\n",
    "    print(time.time()-start)"
   ]
  },
  {
   "cell_type": "code",
   "execution_count": 44,
   "metadata": {},
   "outputs": [
    {
     "name": "stdout",
     "output_type": "stream",
     "text": [
      "the dictionary has height 21\n",
      "the dictionary has height 1999\n",
      "the dictionary has 2000 items\n",
      "0.023929357528686523\n",
      "the dictionary has 2000 items\n",
      "4.199822187423706\n"
     ]
    }
   ],
   "source": [
    "# You need this in order to answer question 2 in exercise 3\n",
    "manySearches(10000, read_save_read)"
   ]
  },
  {
   "cell_type": "code",
   "execution_count": 45,
   "metadata": {},
   "outputs": [],
   "source": [
    "def read_save_meth_read():\n",
    "    tels = ordered_dict('telephone_register', '/')\n",
    "    print('the dictionary has height ' + str(tels.height()))\n",
    "    tels.save('tr', '/')\n",
    "    tels = ordered_dict('tr', '/')\n",
    "    print('the dictionary has height ' + str(tels.height()))"
   ]
  },
  {
   "cell_type": "code",
   "execution_count": 46,
   "metadata": {},
   "outputs": [
    {
     "name": "stdout",
     "output_type": "stream",
     "text": [
      "the dictionary has height 3\n",
      "the dictionary has height 3\n"
     ]
    }
   ],
   "source": [
    "# Test for Exercise 4\n",
    "random_phone_numbers(10)\n",
    "read_save_meth_read()"
   ]
  },
  {
   "cell_type": "code",
   "execution_count": 47,
   "metadata": {},
   "outputs": [
    {
     "name": "stdout",
     "output_type": "stream",
     "text": [
      "the dictionary has height 22\n",
      "the dictionary has height 22\n",
      "the dictionary has 2000 items\n",
      "0.01659393310546875\n",
      "the dictionary has 2000 items\n",
      "0.02407217025756836\n"
     ]
    }
   ],
   "source": [
    "# Test for Exercise 4\n",
    "manySearches(10000, read_save_meth_read)"
   ]
  }
 ],
 "metadata": {
  "kernelspec": {
   "display_name": "Python 3 (ipykernel)",
   "language": "python",
   "name": "python3"
  },
  "language_info": {
   "codemirror_mode": {
    "name": "ipython",
    "version": 3
   },
   "file_extension": ".py",
   "mimetype": "text/x-python",
   "name": "python",
   "nbconvert_exporter": "python",
   "pygments_lexer": "ipython3",
   "version": "3.9.7"
  }
 },
 "nbformat": 4,
 "nbformat_minor": 4
}
